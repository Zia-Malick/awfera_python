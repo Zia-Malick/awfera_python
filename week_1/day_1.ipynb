{
 "cells": [
  {
   "cell_type": "code",
   "execution_count": null,
   "id": "add50f33",
   "metadata": {},
   "outputs": [],
   "source": [
    "print(\"this my first github repo code\")"
   ]
  }
 ],
 "metadata": {
  "language_info": {
   "name": "python"
  }
 },
 "nbformat": 4,
 "nbformat_minor": 5
}
