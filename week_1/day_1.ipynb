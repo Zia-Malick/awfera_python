{
 "cells": [
  {
   "cell_type": "markdown",
   "id": "6d9cb3a1",
   "metadata": {},
   "source": [
    "# print() ---> Main topic today\n",
    "__Hello__"
   ]
  },
  {
   "cell_type": "code",
   "execution_count": 1,
   "id": "add50f33",
   "metadata": {},
   "outputs": [
    {
     "name": "stdout",
     "output_type": "stream",
     "text": [
      "this my first github repo code\n"
     ]
    }
   ],
   "source": [
    "print(\"this my first github repo code\")"
   ]
  }
 ],
 "metadata": {
  "kernelspec": {
   "display_name": "python_awfera",
   "language": "python",
   "name": "python3"
  },
  "language_info": {
   "codemirror_mode": {
    "name": "ipython",
    "version": 3
   },
   "file_extension": ".py",
   "mimetype": "text/x-python",
   "name": "python",
   "nbconvert_exporter": "python",
   "pygments_lexer": "ipython3",
   "version": "3.13.4"
  }
 },
 "nbformat": 4,
 "nbformat_minor": 5
}
