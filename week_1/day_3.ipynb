{
 "cells": [
  {
   "cell_type": "markdown",
   "id": "afd687fe",
   "metadata": {},
   "source": [
    " # String -------> main topic \n",
    "\n",
    "# 1.simple string writing \n",
    "\n",
    "In Python, a string is a sequence of characters enclosed in quotes. You can write a simple string using:\n",
    "\n",
    "> Single quotes: 'Hello'\n",
    "\n",
    "> Double quotes: \"Hello\"\n",
    "\n",
    "> Triple quotes (for multiline strings): '''Hello''' or \"\"\"Hello\"\"\""
   ]
  },
  {
   "cell_type": "code",
   "execution_count": 80,
   "id": "6872f637",
   "metadata": {},
   "outputs": [
    {
     "name": "stdout",
     "output_type": "stream",
     "text": [
      "it is a lovely today.\n",
      "it is a lovely today.\n",
      "institute : punjab university\n",
      "hi,\n",
      "how are you, i feel you are a little tired today\n",
      "what happened bro\n",
      "\n",
      "is there anything else.\n"
     ]
    }
   ],
   "source": [
    "print('it is a lovely today.')\n",
    "print(\"it is a lovely today.\")\n",
    "print(\"institute : punjab university\")\n",
    "print(\"\"\"hi,\n",
    "how are you, i feel you are a little tired today\n",
    "what happened bro\n",
    "\n",
    "is there anything else.\"\"\") # it is for multilines strings format"
   ]
  },
  {
   "cell_type": "markdown",
   "id": "c3a6b76f",
   "metadata": {},
   "source": [
    "# 2.  string concatination:\n",
    "String concatenation means joining two or more strings into one. Python offers multiple elegant ways to do this,\n",
    "\n",
    " Best Practice:\n",
    "> Use f-strings for most use cases (clean and fast).\n",
    "\n",
    "> Use join() for combining multiple strings in a list.\n",
    "\n",
    "A> void + for many strings—less efficient.\n"
   ]
  },
  {
   "cell_type": "code",
   "execution_count": 81,
   "id": "f3b73424",
   "metadata": {},
   "outputs": [
    {
     "name": "stdout",
     "output_type": "stream",
     "text": [
      "Full name:Ali khan\n",
      "code chal raha hai !\n",
      "\n",
      "you slected iphone 14,price: $500\n",
      "\n",
      "\n",
      "courses -->python -->duration:2 month,for mastery level !\n"
     ]
    }
   ],
   "source": [
    "a = ('Full name:')\n",
    "b = (\"Ali khan\")\n",
    "print(a + b) #(it is called concatenantion ,it means joining two strings\n",
    "# and if the variable is not string then first convert it string\n",
    "print(\"code chal raha hai !\")\n",
    "print()\n",
    "c = (\"you slected iphone 14,\")\n",
    "d = (\"price: $500\")\n",
    "print(c + d)\n",
    "print()\n",
    "print()\n",
    "e = (\"courses -->\")\n",
    "f = (\"python -->\")\n",
    "g = (\"duration:\")\n",
    "h = (\"2 month,for mastery level !\") \n",
    "print(e + f + g + h)"
   ]
  },
  {
   "cell_type": "markdown",
   "id": "d7181307",
   "metadata": {},
   "source": [
    "# 3.  string indexing\n",
    "\n",
    "String indexing means accessing individual characters in a string using their position (index). Python treats strings as ordered sequences of characters.\n",
    "\n",
    " Key Points\n",
    "> Positive indexing starts from 0 (left to right).\n",
    "\n",
    "> Negative indexing starts from -1 (right to left).\n",
    "\n",
    "> Strings are immutable, so you can access but not change characters."
   ]
  },
  {
   "cell_type": "code",
   "execution_count": 82,
   "id": "47ef5e73",
   "metadata": {},
   "outputs": [
    {
     "name": "stdout",
     "output_type": "stream",
     "text": [
      "b\n",
      "e\n",
      "l\n",
      "l\n",
      "y\n",
      "y\n",
      "e\n"
     ]
    }
   ],
   "source": [
    "'''string indexing means har word jo k finaly variable ka hu who koi bhi husakta hai us tak pohnchana\n",
    "by order number like,for example'''\n",
    "dance = (\"belly\")\n",
    "print(dance[0])\n",
    "print(dance[1])\n",
    "print(dance[2])\n",
    "print(dance[3])\n",
    "print(dance[4])\n",
    "print(dance[-1]) # negative index use huta hai jab hum last se order par lana chahayin\n",
    "print(dance[1])"
   ]
  },
  {
   "cell_type": "markdown",
   "id": "eeadfaab",
   "metadata": {},
   "source": [
    "# 4.  slicing method\n",
    "String slicing allows you to extract a portion (substring) of a string using index ranges.\n",
    "\n",
    "\n",
    " Key Points:\n",
    "> Slicing is non-destructive: original string remains unchanged.\n",
    "\n",
    "S> tep value lets you skip characters or reverse a string.\n",
    "\n",
    "N> egative indices count from end to start.\n",
    "\n"
   ]
  },
  {
   "cell_type": "code",
   "execution_count": 83,
   "id": "9fa8fc1c",
   "metadata": {},
   "outputs": [
    {
     "name": "stdout",
     "output_type": "stream",
     "text": [
      "pyth\n",
      "o\n",
      "n\n",
      "\n",
      "beaut\n",
      "\n",
      "ical \n",
      "\n",
      "python\n"
     ]
    }
   ],
   "source": [
    "# slicing means string k kisi bhi hissay ko cut karna\n",
    "a = 'python'\n",
    "print(a[0:4]) # it is the slicing form left to right\n",
    "print(a[-2]) # it is the slicing from right to left\n",
    "print(a[-1])\n",
    "print()\n",
    "b = 'beautiful'\n",
    "print(b[0:5])\n",
    "print()\n",
    "c = 'aritifical '\n",
    "print(c[-5:])\n",
    "print()\n",
    "d = 'python deveolper'\n",
    "print(d[0:6])"
   ]
  },
  {
   "cell_type": "markdown",
   "id": "aa3b8455",
   "metadata": {},
   "source": [
    "# 5.  string methods\n",
    "\n",
    "Python provides many built-in string methods to perform common operations like changing case, searching, replacing, checking content, etc.\n",
    "String methods do not change the original string (because strings are immutable); instead, they return a new string.\n",
    "\n",
    "Best Practices:\n",
    "> chain methods for clean and compact operations.\n",
    "\n",
    "> Use split() with join() to manipulate and rebuild strings.\n",
    "\n",
    "> Always remember: string methods return new strings, they do not modify the original.\n",
    "\n"
   ]
  },
  {
   "cell_type": "code",
   "execution_count": 84,
   "id": "a16ceedd",
   "metadata": {},
   "outputs": [
    {
     "name": "stdout",
     "output_type": "stream",
     "text": [
      "4\n",
      "DATA\n",
      "data\n",
      "Hello World\n",
      "hello world\n",
      " i love python\n",
      "['apple', 'banana', 'cherry']\n",
      "apple,cherry,orange\n",
      "True\n",
      "True\n",
      "True\n",
      "False\n",
      "True\n",
      "True\n",
      "True\n",
      "9\n",
      "-1\n"
     ]
    }
   ],
   "source": [
    "text = 'data' # it is for to check the lenth of a charater\n",
    "print(len(text))\n",
    "\n",
    "print(text.upper()) # for to converting the word into upper case\n",
    "\n",
    "print(text.lower()) # for to converting the word into lower case\n",
    "text1 = \"hello world\"\n",
    "print(text1.title()) # is for decalring the strig word into title format\n",
    "\n",
    "print(text1.strip()) # it is for declaring the strip of the words of a variable\n",
    "\n",
    "text2 = ' i love java'\n",
    "print(text2.replace(\"java\",\"python\")) # it is for repacing\n",
    "\n",
    "text3 = \"apple,banana,cherry\"\n",
    "print(text3.split(\",\")) # it is for split the text of variable in the string\n",
    "\n",
    "fruits = ['apple','cherry','orange']\n",
    "print(\",\".join(fruits)) # it is for joining the text of a variable in the string format\n",
    "\n",
    "text4 = \"hello world\"\n",
    "print(text4.startswith(\"hello\")) # for  to decalaring where the starting word of string\n",
    "\n",
    "print(text4.endswith(\"world\")) # for to check the last word of the string of a varaible\n",
    "\n",
    "print(\"456\".isdigit()) # for to check the digit\n",
    "print(\"123\".isalpha()) # for to chcck the alphabet if it is not then it is show the output false\n",
    "\n",
    "print(\"abc\".isalpha()) # for to check the alphabet if it is it show the output true\n",
    "\n",
    "print(\"456\".isdigit()) # is digit then the output is true\n",
    "\n",
    "print(\"ghl789\".isalnum()) # if it is alphabet and numerical then it is show the true output\n",
    "\n",
    "text5 = \"mujhy ai AI pasand hai\"\n",
    "print(text5.find(\"AI\")) # it is for where the AI word start i mean what the order will be for it if it is then it show true in the output\n",
    "\n",
    "print(text5.find(\"sql\")) # if the word does not exsist then it is showing false in the output."
   ]
  },
  {
   "cell_type": "markdown",
   "id": "f30e9f9c",
   "metadata": {},
   "source": [
    "# 6.  escape character\n",
    "\n",
    " Python, escape characters are special sequences used to represent characters that are difficult or impossible to type directly into a string (like newline, tab, quotes, etc.).\n",
    "\n",
    "They begin with a backslash \\ and tell Python to interpret the next character differently.\n",
    "\n",
    "\n",
    "Best Practice:\n",
    "Use raw strings (prefix r) if you want Python to ignore escape sequences:"
   ]
  },
  {
   "cell_type": "code",
   "execution_count": 25,
   "id": "213deda4",
   "metadata": {},
   "outputs": [
    {
     "name": "stdout",
     "output_type": "stream",
     "text": [
      "it's ok\n",
      "she's a student.\n",
      "don't give up.\n",
      "\n",
      "he said \"good job!\"\n",
      " \"practice\" makes the man perfect\n",
      "welcome to the \"python world!\"\n",
      "\n",
      "this is a backlash: \\\n",
      "folder:c\\python\\scripts\n",
      "backup path: D\\ backup\\ july\n",
      "\n",
      "hello\n",
      "world\n",
      "First line:\n",
      "Second line\n",
      "name:\n",
      "Ali jinnah\n",
      "\n",
      "name:\tali\n",
      "section:\tniazi\n",
      "followers:\t20M\n",
      "\n",
      "javao\n",
      "johnohn\n",
      "abc4\n",
      "\n",
      "hello\n",
      "ali\n"
     ]
    }
   ],
   "source": [
    "print(\"it\\'s ok\")\n",
    "print(\"she\\'s a student.\")\n",
    "print(\"don\\'t give up.\")\n",
    "print()\n",
    "print(\"he said \\\"good job!\\\"\")\n",
    "print(\"\"\" \"practice\\\" makes the man perfect\"\"\")\n",
    "print(\"\"\"welcome to the \"python world!\\\"\"\"\")\n",
    "print()\n",
    "\n",
    "print(\"this is a backlash: \\\\\")\n",
    "print(\"folder:c\\\\python\\\\scripts\")\n",
    "print(\"backup path: D\\\\ backup\\\\ july\")\n",
    "print()\n",
    "\n",
    "print(\"hello\\nworld\")\n",
    "print(\"First line:\\nSecond line\")\n",
    "print(\"name:\\nAli jinnah\")\n",
    "print()\n",
    "\n",
    "print(\"name:\\tali\")\n",
    "print(\"section:\\tniazi\")\n",
    "print(\"followers:\\t20M\")\n",
    "print()\n",
    "print(\"hello\\rjava\")\n",
    "print(\"hi john\\rjohn\")\n",
    "print(\"1234\\rabc\")\n",
    "print()\n",
    "\n",
    "print(\"helloo\\b\")\n",
    "print(\"alii\\b\")"
   ]
  },
  {
   "cell_type": "markdown",
   "id": "ae2c6419",
   "metadata": {},
   "source": [
    "# 7. type conversion\n",
    "\n",
    "Type Conversion (also called Type Casting) is the process of converting a value from one data type to another. Python supports both:\n",
    "\n",
    "> Implicit Conversion – Python automatically converts\n",
    "\n",
    ">  Explicit Conversion – You manually convert using built-in fu"
   ]
  },
  {
   "cell_type": "code",
   "execution_count": 44,
   "id": "96a91722",
   "metadata": {},
   "outputs": [
    {
     "name": "stdout",
     "output_type": "stream",
     "text": [
      "the total bill is $450\n",
      "you will be 25 in 5 years.\n",
      "you learn  7 books.\n"
     ]
    }
   ],
   "source": [
    "price = '$450'\n",
    "print(\"the total bill is \" +str(price))\n",
    "age = 25\n",
    "text = ' in 5 years.'\n",
    "print(\"you will be \" + str(age)+str(text))\n",
    "teach = ' 7 '\n",
    "text2 = \"books.\"\n",
    "print(\"you learn \"+str(teach )+str( text2))\n"
   ]
  },
  {
   "cell_type": "markdown",
   "id": "793061b7",
   "metadata": {},
   "source": [
    "project 1).   smart ID card generator"
   ]
  },
  {
   "cell_type": "code",
   "execution_count": 2,
   "id": "0ceb3472",
   "metadata": {},
   "outputs": [
    {
     "name": "stdout",
     "output_type": "stream",
     "text": [
      "\n",
      "Z.\n",
      "\n",
      "      =============== student ID card ==========\n",
      "\n",
      "      Name: Zia\n",
      "      father Name:Asad\n",
      "      Age:19\n",
      "      institute Name:punjab uni\n",
      "      City:Lahore\n",
      "      short name: Z.\n",
      "      username:zia_19\n",
      "      charater: your full name has 3 character\n",
      "==================== format options ================\n",
      "\"Name\" and \"city\" printed with escape charater\n",
      "Name\tZia\n",
      "city\tLahore\n",
      "===================================================================\n",
      "\n"
     ]
    }
   ],
   "source": [
    "\n",
    "Name = input(\"Enter your full name:\").strip().title()\n",
    "father = input(\"Enter your Father Name:\").strip().title()\n",
    "age = int(input(\"Enter your age\"))\n",
    "institute = input(\"Enter your istitute name:\").strip().replace(\"university\",\"uni\")\n",
    "city = input(\"Enter your city name:\").strip().title()\n",
    "\n",
    "print()\n",
    "name_parts = (Name.split())\n",
    "short_name = \"\"\n",
    "for part in name_parts:\n",
    "    short_name += part[0].upper() + \".\"\n",
    "\n",
    "print(short_name)\n",
    "\n",
    "username = name_parts[0].lower() + \"_\" + str(age)\n",
    "char_count =  len(Name)\n",
    "id_card = (f'''\n",
    "      =============== student ID card ==========\n",
    "      \n",
    "      Name: {Name}\n",
    "      father Name:{father}\n",
    "      Age:{age}\n",
    "      institute Name:{institute}\n",
    "      City:{city}\n",
    "      short name: {short_name}\n",
    "      username:{username}\n",
    "      charater: your full name has {char_count} character\n",
    "==================== format options ================\n",
    "\"Name\" and \"city\" printed with escape charater\n",
    "Name\\t{Name}\n",
    "city\\t{city}\n",
    "===================================================================\n",
    "''')\n",
    "print(id_card)"
   ]
  },
  {
   "cell_type": "code",
   "execution_count": null,
   "id": "655a1f99",
   "metadata": {},
   "outputs": [],
   "source": [
    "# ==== Corrected Smart ID Card Generator ====\n",
    "\n",
    "# Step 1: Input from user\n",
    "full_name = input(\"Enter your full name: \").strip().title()\n",
    "father = input(\"Enter your Father's Name: \").strip().title()\n",
    "age = int(input(\"Enter your age: \"))\n",
    "institute = input(\"Enter your institute name: \").strip().replace(\"university\", \"uni\")\n",
    "city = input(\"Enter your city name: \").strip().title()\n",
    "\n",
    "print()\n",
    "\n",
    "# Step 2: Create short name from full_name\n",
    "name_parts = full_name.split()\n",
    "short_name = \"\"\n",
    "for part in name_parts:\n",
    "    short_name += part[0].upper() + \".\"\n",
    "\n",
    "print(short_name)\n",
    "\n",
    "# Step 3: Create username and character count\n",
    "username = name_parts[0].lower() + \"_\" + str(age)\n",
    "char_count = len(full_name)\n",
    "\n",
    "# Step 4: ID Card Format\n",
    "id_card = f'''\n",
    "=============== STUDENT ID CARD ===============\n",
    "\n",
    "Name           : {full_name}\n",
    "Father Name    : {father}\n",
    "Age            : {age} Years\n",
    "Institute Name : {institute}\n",
    "City           : {city}\n",
    "\n",
    "Short Name     : {short_name}\n",
    "Username       : {username}\n",
    "Characters     : Your full name has {char_count} characters.\n",
    "\n",
    "=========== FORMAT OPTIONS ===========\n",
    "\"Name\" and \"City\" printed with escape characters:\n",
    "Name:\\t\"{full_name}\"\n",
    "City:\\t\"{city}\"\n",
    "\n",
    "======================================\n",
    "'''\n",
    "\n",
    "# Step 5: Print ID Card\n",
    "print(id_card)\n"
   ]
  }
 ],
 "metadata": {
  "kernelspec": {
   "display_name": "python_awfera",
   "language": "python",
   "name": "python3"
  },
  "language_info": {
   "codemirror_mode": {
    "name": "ipython",
    "version": 3
   },
   "file_extension": ".py",
   "mimetype": "text/x-python",
   "name": "python",
   "nbconvert_exporter": "python",
   "pygments_lexer": "ipython3",
   "version": "3.13.4"
  }
 },
 "nbformat": 4,
 "nbformat_minor": 5
}
