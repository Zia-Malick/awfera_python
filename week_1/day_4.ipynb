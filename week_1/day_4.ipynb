{
 "cells": [
  {
   "cell_type": "markdown",
   "id": "d368620b",
   "metadata": {},
   "source": [
    "# 1.  simple boolean,ture and false\n",
    "\n",
    "\n",
    "Simple Boolean and True/False in Python\n",
    "Boolean values (True and False) are fundamental in Python for logical operations, conditionals, and control flow. This section demonstrates basic boolean usage, comparisons, and truthy/falsy evaluations in Python.\n",
    "\n",
    "Key Concepts:\n",
    "Boolean Basics: True and False are built-in constants representing truth values.\n",
    "\n",
    ">> Comparison Operators: (==, !=, >, <, etc.) return booleans based on conditions.\n",
    "\n",
    ">> Logical Operators: and, or, not for combining boolean expressions.\n",
    "\n",
    ">> Truthy/Falsy Values: Non-boolean values (like 0, \"\", None) evaluated in a boolean context."
   ]
  },
  {
   "cell_type": "code",
   "execution_count": 10,
   "id": "7d2ba000",
   "metadata": {},
   "outputs": [
    {
     "name": "stdout",
     "output_type": "stream",
     "text": [
      "True\n",
      "False\n",
      "\n",
      "True\n",
      "\n",
      "False\n"
     ]
    }
   ],
   "source": [
    "is_fan_on = True\n",
    "is_light_off = False\n",
    "print(is_fan_on)\n",
    "print(is_light_off)\n",
    "print()\n",
    "\n",
    "b = 90 > 30\n",
    "print(b)\n",
    "print()\n",
    "\n",
    "c = \"Ali\" == \"Alii\"\n",
    "print(c)"
   ]
  },
  {
   "cell_type": "markdown",
   "id": "fe11ccd4",
   "metadata": {},
   "source": [
    "### 2.  bool() function \n",
    "\n",
    "The bool() Function in Python\n",
    "The bool() function in Python converts a value to a boolean (True or False) based on its truthiness or falsiness. It is useful for explicit boolean checks and evaluating conditions dynamically.\n",
    "\n",
    "Key Behaviors:\n",
    "Truthy Values: Non-zero numbers, non-empty sequences (\"abc\", [1, 2], (1,)), and most objects return True.\n",
    "\n",
    "Falsy Values: 0, None, empty sequences (\"\", [], ()), and False itself return False."
   ]
  },
  {
   "cell_type": "code",
   "execution_count": 17,
   "id": "b09a8141",
   "metadata": {},
   "outputs": [
    {
     "name": "stdout",
     "output_type": "stream",
     "text": [
      "True\n",
      "False\n",
      "False\n",
      "True\n",
      "True\n",
      "\n",
      "True\n",
      "False\n"
     ]
    }
   ],
   "source": [
    "print(bool(\"juice\"))\n",
    "print(bool(\"\"))\n",
    "print(bool([]))\n",
    "print(bool([0]))\n",
    "print(bool([-1]))\n",
    "print()\n",
    "\n",
    "print(bool([-100]))\n",
    "print(bool(\"\"))"
   ]
  },
  {
   "cell_type": "markdown",
   "id": "9e495073",
   "metadata": {},
   "source": [
    "### 3.  Truthy VS Falsy values functions\n",
    "\n",
    "\n",
    "Truthy vs Falsy Values in Python\n",
    "In Python, truthy and falsy values determine how non-boolean objects are evaluated in a boolean context (e.g., if statements or logical operations). Understanding these is key to writing concise and expressive conditions.\n",
    "\n",
    "Falsy Values (Evaluate to False):\n",
    "None\n",
    "\n",
    "False\n",
    "\n",
    "Zero numeric types: 0, 0.0, 0j\n",
    "\n",
    "Empty sequences: \"\", [], (), {}, set()\n",
    "\n",
    "Custom objects with __bool__() or __len__() returning False or 0\n",
    "\n",
    "Truthy Values (Evaluate to True):\n",
    "Non-zero numbers: 1, -5, 3.14\n",
    "\n",
    "Non-empty sequences: \"hello\", [1, 2], (1,), {\"key\": \"value\"}\n",
    "\n",
    "Most objects (unless explicitly defined as falsy)"
   ]
  },
  {
   "cell_type": "code",
   "execution_count": 19,
   "id": "218a9756",
   "metadata": {},
   "outputs": [
    {
     "name": "stdout",
     "output_type": "stream",
     "text": [
      "False\n",
      "True\n",
      "True\n",
      "True\n"
     ]
    }
   ],
   "source": [
    "print(bool([]))\n",
    "print(bool([\" \"]))\n",
    "print(bool([0]))\n",
    "print(bool([\"\"]))"
   ]
  },
  {
   "cell_type": "markdown",
   "id": "20947217",
   "metadata": {},
   "source": [
    "## 4.  empty strings/lists = False\n",
    "\n",
    "Empty Strings, Lists, and False in Python\n",
    "In Python, empty sequences and False are falsy values - they evaluate to False in boolean contexts. This behavior enables clean conditional checks and default value handling.\n",
    "\n",
    "Key Falsy Values:\n",
    "False (boolean false)\n",
    "\n",
    "\"\" (empty string)\n",
    "\n",
    "[] (empty list)\n",
    "\n",
    "() (empty tuple)\n",
    "\n",
    "{} (empty dict)\n",
    "\n",
    "set() (empty set)"
   ]
  },
  {
   "cell_type": "code",
   "execution_count": 21,
   "id": "ca1016b3",
   "metadata": {},
   "outputs": [
    {
     "name": "stdout",
     "output_type": "stream",
     "text": [
      "True\n",
      "False\n"
     ]
    }
   ],
   "source": [
    "print(bool([\" \"])) # check bool one space it gives value True\n",
    "print(bool([])) # if it is empty list check bool it gives False"
   ]
  },
  {
   "cell_type": "markdown",
   "id": "d1dff5e5",
   "metadata": {},
   "source": [
    "## 5.  Non zero number = True\n",
    "\n",
    "The Logic of Truthy Numbers\n",
    "Core Rule:\n",
    "In Python, numbers decide their \"truthiness\" by one simple question:\n",
    "\"Am I zero?\" → If yes: False. If no: True.\n",
    "\n",
    "What Makes a Number True?\n",
    "\n",
    "Any value except zero\n",
    "→ Positive (1, 100), negative (-5), fractions (0.001)\n",
    "→ Doesn’t matter how big or small\n",
    "\n",
    "What Makes a Number False?\n",
    "\n",
    "Only exact zero\n",
    "→ Integer 0, float 0.0"
   ]
  },
  {
   "cell_type": "code",
   "execution_count": 24,
   "id": "8e81e182",
   "metadata": {},
   "outputs": [
    {
     "name": "stdout",
     "output_type": "stream",
     "text": [
      "True\n",
      "True\n",
      "True\n"
     ]
    }
   ],
   "source": [
    "print(bool([-10000]))\n",
    "print(bool([0])) # list with one item it gives True values in the output\n",
    "print(bool([0.00001]))"
   ]
  },
  {
   "cell_type": "markdown",
   "id": "125ba478",
   "metadata": {},
   "source": [
    "### 6.  common conversion (type casting)\n",
    "\n",
    "Boolean Type Conversion in Python\n",
    "Python automatically converts values to True or False in logical contexts. Here's how common types behave when cast to booleans using bool():\n",
    "\n",
    "Falsy Values (convert to False):\n",
    "Numbers: 0, 0.0, 0j\n",
    "\n",
    "Sequences: \"\" (empty string), [], (), {}, set()\n",
    "\n",
    "Constants: None, False\n",
    "\n",
    "Truthy Values (convert to True):\n",
    "Numbers: Any non-zero (1, -5, 0.1, 3.14)\n",
    "\n",
    "Sequences: Non-empty (\"hello\", [1], (1,), {\"a\": 1})\n",
    "\n",
    "Objects: Most custom objects (unless __bool__() or __len__() is overridden)\n",
    "\n",
    "Key Rules:\n",
    "Empty → False: Empty containers or zero numbers are falsy.\n",
    "\n",
    "Non-empty → True: Any content makes objects truthy.\n",
    "\n",
    "Explicit Conversion: Use bool() to force evaluation (e.g., bool([]) → False).\n",
    "\n",
    "Why It Matters:\n",
    "Simplifies condition checks (e.g., if items: vs. if len(items) > 0:).\n",
    "\n",
    "Enables concise fallback logic (e.g., result = data or default_value)."
   ]
  },
  {
   "cell_type": "code",
   "execution_count": 42,
   "id": "6277e8b6",
   "metadata": {},
   "outputs": [
    {
     "name": "stdout",
     "output_type": "stream",
     "text": [
      "5\n",
      "5.0\n",
      "5\n",
      "True\n",
      "\n",
      "5\n",
      "abc100\n"
     ]
    }
   ],
   "source": [
    "print(int(\"5\"))\n",
    "print(float(\"5\"))\n",
    "print(str(5))\n",
    "print(bool(\"text\"))\n",
    "\n",
    "print()\n",
    "a = 5.6\n",
    "print(int(a))\n",
    "b = \"abc\"\n",
    "c = 100\n",
    "result = b + str(c)\n",
    "print(result)\n"
   ]
  },
  {
   "cell_type": "markdown",
   "id": "910cc84c",
   "metadata": {},
   "source": [
    "###  project 1)\n",
    "\n",
    "\n",
    "truthy value checker"
   ]
  },
  {
   "cell_type": "code",
   "execution_count": 1,
   "id": "1f034713",
   "metadata": {},
   "outputs": [
    {
     "name": "stdout",
     "output_type": "stream",
     "text": [
      "Truthiness Checker\n",
      "\n",
      "True\n",
      "False\n",
      "True\n",
      "False\n",
      "True\n",
      "False\n",
      "True\n",
      "False\n",
      "True\n",
      "True\n",
      "True\n",
      "True\n",
      "False\n",
      "True\n",
      "False\n",
      "True\n",
      "False\n",
      "True\n",
      "False\n",
      "True\n",
      "False\n",
      "True\n",
      "False\n",
      "False\n",
      "True\n",
      "False\n",
      "True\n"
     ]
    }
   ],
   "source": [
    "#  Mini Project: Truthiness Checker\n",
    "\n",
    "print(\"Truthiness Checker\\n\")\n",
    "\n",
    "# Simple boolean values\n",
    "print(True)     # True\n",
    "print(False)    # False\n",
    "\n",
    "# Using bool() function on different data types\n",
    "print(bool(1))           # True\n",
    "print(bool(0))           # False\n",
    "print(bool(-5))          # True\n",
    "print(bool(0.0))         # False\n",
    "print(bool(3.14))        # True\n",
    "print(bool(\"\"))          # False\n",
    "print(bool(\"Hello\"))     # True\n",
    "print(bool(\" \"))         # True\n",
    "print(bool(\"0\"))         # True\n",
    "print(bool(\"None\"))      # True\n",
    "\n",
    "# Empty containers are falsy\n",
    "print(bool([]))          # False\n",
    "print(bool([1, 2]))      # True\n",
    "print(bool({}))          # False\n",
    "print(bool({\"a\": 1}))    # True\n",
    "print(bool(()))          # False\n",
    "print(bool((1,)))        # True\n",
    "print(bool(set()))       # False\n",
    "print(bool({1, 2}))      # True\n",
    "\n",
    "# Special values\n",
    "print(bool(None))        # False\n",
    "print(bool(True))        # True\n",
    "print(bool(False))       # False\n",
    "\n",
    "# Common conversions (type casting)\n",
    "print(bool(int(\"0\")))    # False → \"0\" becomes 0\n",
    "print(bool(int(\"5\")))    # True  → \"5\" becomes 5\n",
    "print(bool(float(\"0.0\")))# False\n",
    "print(bool(float(\"0.1\")))# True\n",
    "\n"
   ]
  }
 ],
 "metadata": {
  "kernelspec": {
   "display_name": "python_awfera",
   "language": "python",
   "name": "python3"
  },
  "language_info": {
   "codemirror_mode": {
    "name": "ipython",
    "version": 3
   },
   "file_extension": ".py",
   "mimetype": "text/x-python",
   "name": "python",
   "nbconvert_exporter": "python",
   "pygments_lexer": "ipython3",
   "version": "3.13.4"
  }
 },
 "nbformat": 4,
 "nbformat_minor": 5
}
