{
 "cells": [
  {
   "cell_type": "markdown",
   "id": "d69d6156",
   "metadata": {},
   "source": [
    "--->   1. integer type problems"
   ]
  },
  {
   "cell_type": "code",
   "execution_count": null,
   "id": "4d47b86d",
   "metadata": {},
   "outputs": [
    {
     "name": "stdout",
     "output_type": "stream",
     "text": [
      " total students are 67,if 18 are the girls then how much are the boys\n",
      "49\n",
      "program = 2\n",
      "the answer is 49,so 49 are the boys in the class\n",
      "\n",
      "30\n",
      "17\n",
      "47\n",
      "------------------------------------------\n",
      "boys = 30\n",
      "girls = 17\n",
      "total = boys + girls\n",
      "47\n",
      "\n",
      "======================================================\n"
     ]
    }
   ],
   "source": [
    "#    Integer variable means the variable that inside number values,such as given below\n",
    "\n",
    "total = 67\n",
    "girls = 18\n",
    "print(\" total students are 67,if 18 are the girls then how much are the boys\")\n",
    "\n",
    "c = total - girls\n",
    "print(c)\n",
    "print('program = 2')\n",
    "print(\"the answer is 49,so 49 are the boys in the class\")\n",
    "print()\n",
    "\n",
    "boys = 30\n",
    "girls = 17\n",
    "total = boys + girls\n",
    "print(boys)\n",
    "print(girls)\n",
    "print(total)\n",
    "print(\"------------------------------------------\")\n",
    "\n",
    "boys = 30\n",
    "print(\"boys = 30\")\n",
    "\n",
    "girls = 17\n",
    "print(\"girls = 17\")\n",
    "\n",
    "total = boys + girls\n",
    "print(\"total = boys + girls\")\n",
    "\n",
    "print(total)\n",
    "print()\n",
    "print(\"======================================================\")"
   ]
  },
  {
   "cell_type": "markdown",
   "id": "44631e3d",
   "metadata": {},
   "source": []
  },
  {
   "cell_type": "code",
   "execution_count": null,
   "id": "5fe26475",
   "metadata": {},
   "outputs": [
    {
     "name": "stdout",
     "output_type": "stream",
     "text": [
      "books = 3\n",
      "students = 7\n",
      "every student take 3 books from library,so\n",
      "total = books * students\n",
      "so books are 21.\n",
      "21 books are issued for students from library.\n",
      "type = <class 'int'>\n"
     ]
    }
   ],
   "source": [
    "books = 3\n",
    "print(\"books = 3\")\n",
    "\n",
    "students = 7\n",
    "print(\"students = 7\")\n",
    "print(\"every student take 3 books from library,so\")\n",
    "\n",
    "total = books * students\n",
    "print('total = books * students')\n",
    "print(\"so books are 21.\")\n",
    "print(\"21 books are issued for students from library.\")\n",
    "print(f\"type = {type(total)}\")  # type is a built in function that we discuessed in the next weeks,it tell us variable is used belong to which type of variables.\n"
   ]
  },
  {
   "cell_type": "markdown",
   "id": "2d4a9be4",
   "metadata": {},
   "source": [
    "--->  2.  float type problem"
   ]
  },
  {
   "cell_type": "code",
   "execution_count": null,
   "id": "7f4d7b82",
   "metadata": {},
   "outputs": [
    {
     "name": "stdout",
     "output_type": "stream",
     "text": [
      "orange_juce = 2.36 litre\n",
      "mango_juce = 3.0 litre\n",
      "total = orange_juce + mango_juce\n",
      "total = 5.3 litres\n"
     ]
    }
   ],
   "source": [
    "#   Float variables store the decimal point values\n",
    "orange_juice = 2.3\n",
    "mango_juice = 3.0\n",
    "total =  orange_juice + mango_juice\n",
    "print(\"orange_juce = 2.36 litre\")\n",
    "print(\"mango_juce = 3.0 litre\")\n",
    "print(\"total = orange_juce + mango_juce\")\n",
    "print(f\"total = {total} litres\")"
   ]
  },
  {
   "cell_type": "markdown",
   "id": "49e31ad8",
   "metadata": {},
   "source": [
    "--->  float type problem"
   ]
  },
  {
   "cell_type": "code",
   "execution_count": null,
   "id": "cfaa25d6",
   "metadata": {},
   "outputs": [
    {
     "name": "stdout",
     "output_type": "stream",
     "text": [
      "biology = 87.6\n",
      "physics = 95.25\n",
      "chemistry = 78\n",
      "average = 87.25 marks\n"
     ]
    }
   ],
   "source": [
    "biology = 87.6\n",
    "physics = 95.25\n",
    "chemistry = 78.9\n",
    "\n",
    "total = biology + physics + chemistry\n",
    "average = total / 3\n",
    "\n",
    "print(f\"biology = {biology}\")\n",
    "print(f\"physics = 95.25\")\n",
    "print(\"chemistry = 78\")\n",
    "print(f\"average = {average} marks\")"
   ]
  },
  {
   "cell_type": "markdown",
   "id": "1bff95e7",
   "metadata": {},
   "source": [
    "3. type casting problem"
   ]
  },
  {
   "cell_type": "code",
   "execution_count": null,
   "id": "74729ff3",
   "metadata": {},
   "outputs": [
    {
     "name": "stdout",
     "output_type": "stream",
     "text": [
      "int : 6\n",
      "complex : (6+0j)\n"
     ]
    }
   ],
   "source": [
    "#  Type casting means ask the variables that it belongs to which type of variable\n",
    "#  format is type()\n",
    "num = 6\n",
    "complex_num = complex(num)\n",
    "print(f\"int : {num}\")\n",
    "print(f\"complex : {complex_num}\")"
   ]
  },
  {
   "cell_type": "code",
   "execution_count": 7,
   "id": "41bc9257",
   "metadata": {},
   "outputs": [
    {
     "name": "stdout",
     "output_type": "stream",
     "text": [
      "Float : 50.5\n",
      "Int : 50\n",
      "Complex_num : (50+1j)\n"
     ]
    }
   ],
   "source": [
    "float = 50.5\n",
    "int = 50\n",
    "complex_num = 50 + 1j\n",
    "print(f\"Float : {float}\")\n",
    "print(f\"Int : {int}\")\n",
    "print(f\"Complex_num : {complex_num}\")"
   ]
  },
  {
   "cell_type": "markdown",
   "id": "f5abd697",
   "metadata": {},
   "source": [
    "4. arithematic operations"
   ]
  },
  {
   "cell_type": "code",
   "execution_count": null,
   "id": "6088a029",
   "metadata": {},
   "outputs": [
    {
     "name": "stdout",
     "output_type": "stream",
     "text": [
      "sum : 12\n",
      "difference : -4\n",
      "product : 32\n",
      "division : 0.5\n",
      "modulus : 4\n"
     ]
    }
   ],
   "source": [
    "#  Arithematic operation means(+,-.*,\\,%) etc\n",
    "\n",
    "a = 4\n",
    "b = 8\n",
    "\n",
    "sum = a + b\n",
    "difference = a - b\n",
    "product = a * b\n",
    "division = a / b\n",
    "modulus = a % b\n",
    "\n",
    "print(f\"sum : {sum}\")\n",
    "print(f\"difference : {difference}\")\n",
    "print(f\"product : {product}\")\n",
    "print(f\"division : {division}\")\n",
    "print(f\"modulus : {modulus}\")\n"
   ]
  },
  {
   "cell_type": "code",
   "execution_count": 12,
   "id": "5204dea5",
   "metadata": {},
   "outputs": [
    {
     "name": "stdout",
     "output_type": "stream",
     "text": [
      "floor division or b // a : 0\n",
      "power_division or 2 ** 8 : 64\n"
     ]
    }
   ],
   "source": [
    "a = 8\n",
    "b = 2\n",
    "\n",
    "floor_division = b // a\n",
    "power_division = a ** b\n",
    "\n",
    "print(f\"floor division or b // a : {floor_division}\")\n",
    "print(f\"power_division or 2 ** 8 : {power_division}\")"
   ]
  },
  {
   "cell_type": "markdown",
   "id": "fd6e5f0a",
   "metadata": {},
   "source": [
    "5.  storing and updating values problems"
   ]
  },
  {
   "cell_type": "code",
   "execution_count": 4,
   "id": "412d5dcc",
   "metadata": {},
   "outputs": [
    {
     "name": "stdout",
     "output_type": "stream",
     "text": [
      "after discount : 40.0\n",
      "final : 160.0\n",
      "after shipping : 170\n"
     ]
    }
   ],
   "source": [
    "price = 200\n",
    "discount = 20\n",
    "shipping = 10\n",
    "discount_price = price * (discount / 100)\n",
    "final = price - discount_price\n",
    "print(f\"after discount : {discount_price}\")\n",
    "print(f\"final : {final}\")\n",
    "print(f\"after shipping : 170\")"
   ]
  },
  {
   "cell_type": "code",
   "execution_count": 9,
   "id": "e9528e56",
   "metadata": {},
   "outputs": [
    {
     "name": "stdout",
     "output_type": "stream",
     "text": [
      "0  --> 10  --> 20  --> "
     ]
    }
   ],
   "source": [
    "score = 0\n",
    "print(score,end = \"  --> \")\n",
    "score = 10\n",
    "print(score,end = \"  --> \")\n",
    "score = 20\n",
    "print(score, end=\"  --> \")\n"
   ]
  },
  {
   "cell_type": "markdown",
   "id": "270dfdc4",
   "metadata": {},
   "source": [
    "project 1)"
   ]
  },
  {
   "cell_type": "code",
   "execution_count": null,
   "id": "f9403075",
   "metadata": {},
   "outputs": [
    {
     "name": "stdout",
     "output_type": "stream",
     "text": [
      "apple = 170\n",
      "milk = 190\n",
      "sugar = 200\n",
      "\n",
      "total grocery = 560\n",
      "discount = 56.0\n",
      "after discount = 504.0\n",
      "tax = 28.0\n",
      "final = 532.0\n",
      "\n",
      "digital tax entry : (12.26+0j)\n",
      "type of final price : <class 'float'>\n",
      "type of digital tax : <class 'float'>\n"
     ]
    }
   ],
   "source": [
    "# these are varibles \n",
    "apple = 170\n",
    "milk = 190\n",
    "sugar = 200\n",
    "print(f\"apple = {apple}\") # f is used when we used to print variables inside the msg that i want to print\n",
    "print(f\"milk = {milk}\")\n",
    "print(f\"sugar = {sugar}\")\n",
    "print()\n",
    "\n",
    "total_grocery = apple + milk + sugar\n",
    "discount = total_grocery * 0.10\n",
    "after_discount = total_grocery - discount\n",
    "tax = total_grocery * 0.05\n",
    "final_price = after_discount + tax\n",
    "print(f\"total grocery = {total_grocery}\")\n",
    "print(f\"discount = {discount}\")\n",
    "print(f\"after discount = {after_discount}\")\n",
    "print(f\"tax = {tax}\")\n",
    "print(f\"final = {final_price}\")\n",
    "print()\n",
    "\n",
    "digital_tax = complex(tax)\n",
    "digital_tax = 12.26\n",
    "complex_num = complex(digital_tax)\n",
    "print(f\"digital tax entry : {complex(complex_num)}\")\n",
    "print(f\"type of final price : {type(final_price)}\")\n",
    "print(f\"type of digital tax : {type(digital_tax)}\")"
   ]
  }
 ],
 "metadata": {
  "kernelspec": {
   "display_name": "python_awfera",
   "language": "python",
   "name": "python3"
  },
  "language_info": {
   "codemirror_mode": {
    "name": "ipython",
    "version": 3
   },
   "file_extension": ".py",
   "mimetype": "text/x-python",
   "name": "python",
   "nbconvert_exporter": "python",
   "pygments_lexer": "ipython3",
   "version": "3.13.4"
  }
 },
 "nbformat": 4,
 "nbformat_minor": 5
}
